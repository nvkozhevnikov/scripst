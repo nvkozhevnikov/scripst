{
 "cells": [
  {
   "cell_type": "code",
   "execution_count": null,
   "metadata": {},
   "outputs": [],
   "source": [
    "''' Split the list into n elements '''\n",
    "\n",
    "mass = []\n",
    "with open ('domains_competitors_technical.txt', 'r', encoding='utf-8') as r:\n",
    "    for l in r:\n",
    "        mass.append(l)\n",
    "        \n",
    "n = 2000\n",
    "\n",
    "i = 0\n",
    "while i < 7:\n",
    "    for i in range(0, len(mass) + n, n):\n",
    "        name_file = 'domains_' + str(i) + '.txt'\n",
    "        with open(name_file, 'a', encoding=\"utf-8\") as r:\n",
    "            x = mass[i:i + n]\n",
    "            for w in x:\n",
    "                r.write(w)                \n",
    "    i += 1"
   ]
  }
 ],
 "metadata": {
  "kernelspec": {
   "display_name": "Python 3",
   "language": "python",
   "name": "python3"
  },
  "language_info": {
   "codemirror_mode": {
    "name": "ipython",
    "version": 3
   },
   "file_extension": ".py",
   "mimetype": "text/x-python",
   "name": "python",
   "nbconvert_exporter": "python",
   "pygments_lexer": "ipython3",
   "version": "3.7.6"
  }
 },
 "nbformat": 4,
 "nbformat_minor": 4
}
